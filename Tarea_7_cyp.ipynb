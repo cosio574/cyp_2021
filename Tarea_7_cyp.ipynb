{
  "nbformat": 4,
  "nbformat_minor": 0,
  "metadata": {
    "colab": {
      "name": "Untitled4.ipynb",
      "provenance": [],
      "authorship_tag": "ABX9TyPr3egbsURnlKzmIEgUZTFp",
      "include_colab_link": true
    },
    "kernelspec": {
      "name": "python3",
      "display_name": "Python 3"
    }
  },
  "cells": [
    {
      "cell_type": "markdown",
      "metadata": {
        "id": "view-in-github",
        "colab_type": "text"
      },
      "source": [
        "<a href=\"https://colab.research.google.com/github/cosio574/cyp_2021/blob/main/Tarea_7_cyp.ipynb\" target=\"_parent\"><img src=\"https://colab.research.google.com/assets/colab-badge.svg\" alt=\"Open In Colab\"/></a>"
      ]
    },
    {
      "cell_type": "code",
      "metadata": {
        "id": "uahUPaVEBSOH"
      },
      "source": [
        "def iniciar_region(lista=[], ccontinente=[], region=\"\"):\n",
        "  for i in range(30):\n",
        "    pais = input(f\"pais {region.capitalize()} America: \")\n",
        "    if pais == \"\":\n",
        "      break\n",
        "      pais = str(pais).title()\n",
        "\n",
        "      lista.append(pais)\n",
        "\n",
        "      continente.append(pais)\n",
        "\n",
        "def ordenar_region(lista=[]):\n",
        "  for i in range(len(lista)):\n",
        "    for j in range(len(lista) - 1):\n",
        "       if ord(lista[j][0]) > ord(lista[j + 1][0]):\n",
        "          aux = lista[j + 1]\n",
        "          lista[j + 1] = lista[j]\n",
        "          lista[j] = aux\n",
        "       if ord(lista[j][0]) == ord(lista[j]):\n",
        "          if ord(lista[j][1]) > ord(lista[j + 1][1]):\n",
        "              aux = lista[j + 1]\n",
        "              lista[j + 1] = lista[j]\n",
        "              lista[j] = aux\n",
        "\n",
        "\n",
        "def mostrar_region(lista=[], region=\"\"):\n",
        "  print(f\"Mostrando Region {region.capitalize()}\")\n",
        "  print(lista)\n",
        "\n",
        "norte = []\n",
        "centro = []\n",
        "sur = []\n",
        "america = []\n",
        "iniciar_region(norte, america, \"Norte\")\n",
        "iniciar_region(centro, america, \"Centro\")\n",
        "iniciar_region(sur, america, \"Sur\")\n",
        "ordenar_region(norte)\n",
        "ordenar_region(centro)\n",
        "ordenar_region(sur)\n",
        "ordenar_region(america)\n",
        "mostrar_region(america)\n",
        "mostrar_region(norte, \"Norte\")\n",
        "mostrar_region(centro, \"Centro\")\n",
        "mostrar_region(sur, \"Sur\")\n",
        "mostrar_region(america, \"America\")\n",
        "\n",
        "\n"
      ],
      "execution_count": null,
      "outputs": []
    },
    {
      "cell_type": "code",
      "metadata": {
        "id": "o0nCYel7PUrz"
      },
      "source": [
        ""
      ],
      "execution_count": null,
      "outputs": []
    }
  ]
}