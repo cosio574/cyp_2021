{
  "nbformat": 4,
  "nbformat_minor": 0,
  "metadata": {
    "colab": {
      "name": "19_Nov_cyp.untled",
      "provenance": [],
      "authorship_tag": "ABX9TyOnfg1fkev0QnjO9edXxJY/",
      "include_colab_link": true
    },
    "kernelspec": {
      "name": "python3",
      "display_name": "Python 3"
    }
  },
  "cells": [
    {
      "cell_type": "markdown",
      "metadata": {
        "id": "view-in-github",
        "colab_type": "text"
      },
      "source": [
        "<a href=\"https://colab.research.google.com/github/cosio574/cyp_2021/blob/main/19_Nov_cyp_untled.ipynb\" target=\"_parent\"><img src=\"https://colab.research.google.com/assets/colab-badge.svg\" alt=\"Open In Colab\"/></a>"
      ]
    },
    {
      "cell_type": "code",
      "metadata": {
        "id": "1IKHpxMchDma"
      },
      "source": [
        "I = 0\n",
        "I = I + 1\n",
        "I = I + 1\n",
        "print(f\"I = {I})"
      ],
      "execution_count": null,
      "outputs": []
    },
    {
      "cell_type": "code",
      "metadata": {
        "colab": {
          "base_uri": "https://localhost:8080/"
        },
        "id": "UEWru36Xm73n",
        "outputId": "1cbfc3b7-7a3c-448a-ca6d-92075ae6f137"
      },
      "source": [
        "A = 0\n",
        "B = 0\n",
        "C = 0\n",
        "D = 0\n",
        "\n",
        "A = int(input(\"dame un valor entero:\"))\n",
        "B = int(input(\"dame un valor entero:\"))\n",
        "C = int(input(\"dame un valor entero:\"))\n",
        "D = int(input(\"dame un valor entero:\"))\n",
        "\n",
        "print(B)\n",
        "print(C)\n",
        "print(D)\n",
        "print(A)"
      ],
      "execution_count": null,
      "outputs": [
        {
          "output_type": "stream",
          "text": [
            "dame un valor entero: 5\n",
            "dame un valor entero:10\n",
            "dame un valor entero:20\n",
            "dame un valor entero:30\n",
            "10\n",
            "20\n",
            "30\n",
            "5\n"
          ],
          "name": "stdout"
        }
      ]
    },
    {
      "cell_type": "code",
      "metadata": {
        "colab": {
          "base_uri": "https://localhost:8080/"
        },
        "id": "JqBNV5CtpP-r",
        "outputId": "3a681c7a-87d6-494e-c7f0-0435a4ef3c4f"
      },
      "source": [
        " A = 0\n",
        " B = 0\n",
        " A= int(input(\"dame un valor entero:\"))\n",
        " B = int(input(\"dame otro valor entero:\"))\n",
        " RES = (A + B)** 2 / 3\n",
        " print(RES)"
      ],
      "execution_count": null,
      "outputs": [
        {
          "output_type": "stream",
          "text": [
            "dame un entero:14\n",
            "dame un otro entero:-5\n",
            "27.0\n"
          ],
          "name": "stdout"
        }
      ]
    },
    {
      "cell_type": "code",
      "metadata": {
        "id": "7mgkGspCuxo3"
      },
      "source": [
        "MAT = 0\n",
        "CAL1 = 0\n",
        "CAL2 = 0\n",
        "CAL3 = 0\n",
        "CAL4 = 0\n",
        "CAL5 = 0\n",
        "PRO = 0.0\n",
        "\n",
        "CAL1 = float(input(\"dame un valor entero:\"))\n",
        "CAL2 = float(input(\"dame un valor entero:\"))\n",
        "CAL3 = float(input(\"dame un valor entero:\"))\n",
        "CAL4 = float(input(\"dame un valor entero:\"))\n",
        "CAL5 = float(input(\"dame un valor entero:\"))\n"
      ],
      "execution_count": null,
      "outputs": []
    },
    {
      "cell_type": "code",
      "metadata": {
        "colab": {
          "base_uri": "https://localhost:8080/"
        },
        "id": "4JbZkB91yp-k",
        "outputId": "005920ea-e1be-4963-ea23-6f0d1851487a"
      },
      "source": [
        "num = int(input(\"Number: \"))\n",
        "print(num ** 2)\n",
        "print(num ** 3)"
      ],
      "execution_count": 9,
      "outputs": [
        {
          "output_type": "stream",
          "text": [
            "Number: 7\n",
            "49\n",
            "343\n"
          ],
          "name": "stdout"
        }
      ]
    },
    {
      "cell_type": "code",
      "metadata": {
        "colab": {
          "base_uri": "https://localhost:8080/"
        },
        "id": "sQci9c7W0SS7",
        "outputId": "756b9b49-1480-40ec-f494-8fb37336b72c"
      },
      "source": [
        "base=0\n",
        "altura=0\n",
        "area=0\n",
        "per=0\n",
        "\n",
        "base=float(input(\"Ingresa la base de tu rectangulo\"))\n",
        "altura=float(input(\"Ingresa la altura de tu rectangulo\"))\n",
        "area=(base*altura)\n",
        "per=(2*base)+(2*altura)\n",
        "\n",
        "print(f\"el área de tu rectangulo es {area}\")\n",
        "print(f\"el perímetro de tu rectangulo es {per}\")"
      ],
      "execution_count": 11,
      "outputs": [
        {
          "output_type": "stream",
          "text": [
            "Ingresa la base de tu rectangulo 16\n",
            "Ingresa la altura de tu rectangulo 19\n",
            "el área de tu rectangulo es 304.0\n",
            "el perímetro de tu rectangulo es 70.0\n"
          ],
          "name": "stdout"
        }
      ]
    }
  ]
}