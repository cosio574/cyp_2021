{
  "nbformat": 4,
  "nbformat_minor": 0,
  "metadata": {
    "colab": {
      "name": "14_Enero_cyp.ipynb",
      "provenance": [],
      "authorship_tag": "ABX9TyPrQeXzLkqW91uixhCMvFcm",
      "include_colab_link": true
    },
    "kernelspec": {
      "name": "python3",
      "display_name": "Python 3"
    }
  },
  "cells": [
    {
      "cell_type": "markdown",
      "metadata": {
        "id": "view-in-github",
        "colab_type": "text"
      },
      "source": [
        "<a href=\"https://colab.research.google.com/github/cosio574/cyp_2021/blob/main/14_Enero_cyp.ipynb\" target=\"_parent\"><img src=\"https://colab.research.google.com/assets/colab-badge.svg\" alt=\"Open In Colab\"/></a>"
      ]
    },
    {
      "cell_type": "code",
      "metadata": {
        "id": "g6d9B0LX4IMH"
      },
      "source": [
        ""
      ],
      "execution_count": null,
      "outputs": []
    },
    {
      "cell_type": "markdown",
      "metadata": {
        "id": "f2-z60bU5RxM"
      },
      "source": [
        "#Palabras reservados de Pyhton 3\n"
      ]
    },
    {
      "cell_type": "markdown",
      "metadata": {
        "id": "GwxSG0QH5aev"
      },
      "source": [
        ""
      ]
    },
    {
      "cell_type": "code",
      "metadata": {
        "colab": {
          "base_uri": "https://localhost:8080/"
        },
        "id": "S6tYw-b05g_W",
        "outputId": "4ddcd5a6-2b45-46b8-c83a-299951e06c88"
      },
      "source": [
        "import keyword\n",
        "pr = keyword.kwlist\n",
        "print(len(pr))\n",
        "for palabra in pr:\n",
        "  print(palabra , end=\",\")"
      ],
      "execution_count": 3,
      "outputs": [
        {
          "output_type": "stream",
          "text": [
            "33\n",
            "False,None,True,and,as,assert,break,class,continue,def,del,elif,else,except,finally,for,from,global,if,import,in,is,lambda,nonlocal,not,or,pass,raise,return,try,while,with,yield,"
          ],
          "name": "stdout"
        }
      ]
    },
    {
      "cell_type": "markdown",
      "metadata": {
        "id": "PiMXor9Z61FN"
      },
      "source": [
        "#Variable\n",
        "\n",
        "Es un espacio de memoria de la computadora para almecenar valores que cmabian a lo largo de la ejcucion del proprama. Este espacio de memoria esta referenciado por un identificador, el cual tiene ciertas reglas de nombrado.\n",
        "- No debe ser igual a una de las palabras reservadas.\n",
        "- Evitar nombres de vqriables largos \n",
        "- Usar notacion snake_case\n",
        "- Evitar muy cortos, ejemplo; x,y,i- Puede iniciar con_\n"
      ]
    },
    {
      "cell_type": "code",
      "metadata": {
        "colab": {
          "base_uri": "https://localhost:8080/",
          "height": 35
        },
        "id": "S5HVL5jj81Q4",
        "outputId": "e47128e5-b363-4c87-834d-47dcd1507a58"
      },
      "source": [
        "_2edad=12\n",
        "\n",
        "\n",
        "\"\"\"\n",
        "\n",
        "No se puede usar una palabra reservada como identificador de variable:\n",
        "\n",
        "for = 12\n",
        "print(for)\n",
        "\n",
        "\"\"\"\n",
        "\n"
      ],
      "execution_count": 7,
      "outputs": [
        {
          "output_type": "execute_result",
          "data": {
            "application/vnd.google.colaboratory.intrinsic+json": {
              "type": "string"
            },
            "text/plain": [
              "'\\n\\nNo se puede usar una palabra reservada como identificador de variable:\\n\\nfor = 12\\nprint(for)\\n\\n'"
            ]
          },
          "metadata": {
            "tags": []
          },
          "execution_count": 7
        }
      ]
    },
    {
      "cell_type": "code",
      "metadata": {
        "id": "7v1z1gS39Rfd"
      },
      "source": [
        "\"\"\"\n",
        "La notación snake case consta de formar el identiificador de variable separando las palabras del mismo con un guión bajo.\n",
        "\n",
        "Se recomienda que los identificadores "
      ],
      "execution_count": null,
      "outputs": []
    },
    {
      "cell_type": "markdown",
      "metadata": {
        "id": "0o5iwxlh-HFT"
      },
      "source": [
        "#Tipos de datos\n",
        "- Numericos\n",
        "  - int  (1, 2, 23454, etc)\n",
        "  - float\n",
        "  - long\n",
        "  - complex\n"
      ]
    }
  ]
}