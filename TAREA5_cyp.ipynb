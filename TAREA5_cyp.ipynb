{
  "nbformat": 4,
  "nbformat_minor": 0,
  "metadata": {
    "colab": {
      "name": "TAREA5_cyp.ipynb",
      "provenance": [],
      "authorship_tag": "ABX9TyNoGbIdVTz27qTwZhfQfcDH",
      "include_colab_link": true
    },
    "kernelspec": {
      "name": "python3",
      "display_name": "Python 3"
    }
  },
  "cells": [
    {
      "cell_type": "markdown",
      "metadata": {
        "id": "view-in-github",
        "colab_type": "text"
      },
      "source": [
        "<a href=\"https://colab.research.google.com/github/cosio574/cyp_2021/blob/main/TAREA5_cyp.ipynb\" target=\"_parent\"><img src=\"https://colab.research.google.com/assets/colab-badge.svg\" alt=\"Open In Colab\"/></a>"
      ]
    },
    {
      "cell_type": "code",
      "metadata": {
        "colab": {
          "base_uri": "https://localhost:8080/"
        },
        "id": "-BDEh34lMr1g",
        "outputId": "34937174-fb84-4512-ec1b-3b611f5ba47f"
      },
      "source": [
        "#Ejemplo 3.1\n",
        "var = \"Sueldo: $\"\n",
        "salario = [float(input(var)), float(input(var)), float(input(var)), float(input(var)), float(input(var)), float(input(var)), float(input(var)),float(input(var)), float(input(var)), float(input(var)),float(input(var))]\n",
        "nomina = salario[0] + salario[1] + salario[3] + salario[4] + salario[5] + salario[6] + salario[7] + salario[8] + salario[9] + salario[10] \n",
        "print(f\"NOMINA TOTAL:  ${nomina}\")"
      ],
      "execution_count": 7,
      "outputs": [
        {
          "output_type": "stream",
          "text": [
            "Sueldo: $5200\n",
            "Sueldo: $3200\n",
            "Sueldo: $5200\n",
            "Sueldo: $9300\n",
            "Sueldo: $5500\n",
            "Sueldo: $63000\n",
            "Sueldo: $4200\n",
            "Sueldo: $6200\n",
            "Sueldo: $3500\n",
            "Sueldo: $8450\n",
            "Sueldo: $6999\n",
            "NOMINA TOTAL:  $115549.0\n"
          ],
          "name": "stdout"
        }
      ]
    },
    {
      "cell_type": "code",
      "metadata": {
        "colab": {
          "base_uri": "https://localhost:8080/"
        },
        "id": "qjRz9SXSQ_Mf",
        "outputId": "4329b97b-789c-45e1-a47e-9a17d635de65"
      },
      "source": [
        "#Ejemplo 3.4\n",
        "\n",
        "montoT = 0\n",
        "flag = 1.0\n",
        "while flag > 0.0 :\n",
        "  aux = float(input(\"Monto:  $\"))\n",
        "  montoT += (aux if aux > 0.0 else 0.0)\n",
        "  flag = aux\n",
        "print(f\"Gasto Total:  ${montoT}\")"
      ],
      "execution_count": 10,
      "outputs": [
        {
          "output_type": "stream",
          "text": [
            "Monto:  $652\n",
            "Monto:  $2564\n",
            "Monto:  $365\n",
            "Monto:  $-1\n",
            "Gasto Total:  $3581.0\n"
          ],
          "name": "stdout"
        }
      ]
    }
  ]
}