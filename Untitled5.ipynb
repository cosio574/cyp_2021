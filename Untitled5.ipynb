{
  "nbformat": 4,
  "nbformat_minor": 0,
  "metadata": {
    "colab": {
      "name": "Untitled5.ipynb",
      "provenance": [],
      "authorship_tag": "ABX9TyMSSxBDVHJs4Cpt/thtZzel",
      "include_colab_link": true
    },
    "kernelspec": {
      "name": "python3",
      "display_name": "Python 3"
    }
  },
  "cells": [
    {
      "cell_type": "markdown",
      "metadata": {
        "id": "view-in-github",
        "colab_type": "text"
      },
      "source": [
        "<a href=\"https://colab.research.google.com/github/cosio574/cyp_2021/blob/main/Untitled5.ipynb\" target=\"_parent\"><img src=\"https://colab.research.google.com/assets/colab-badge.svg\" alt=\"Open In Colab\"/></a>"
      ]
    },
    {
      "cell_type": "code",
      "metadata": {
        "colab": {
          "base_uri": "https://localhost:8080/"
        },
        "id": "GOyxp3W-Cm6T",
        "outputId": "5c8a5d6f-473e-49df-dd1e-232c112bc6d3"
      },
      "source": [
        "calif=(float (input(\"Bienvenido alumno,ingresa tu calificación aqui:  \")))\n",
        "if (calif>=8 and calif<=10 ):\n",
        "  print(\"Has sido Aprobado\")\n",
        "else:\n",
        "    if (calif>=7 and calif<=0):\n",
        "     print(\"Has reprobado\")\n",
        "    else:\n",
        "      print(\"La calificacion que has ingresado es incorrecta\")\n",
        "\n"
      ],
      "execution_count": 15,
      "outputs": [
        {
          "output_type": "stream",
          "text": [
            "Bienvenido alumno,ingresa tu calificación aqui:  8\n",
            "Has sido Aprobado\n"
          ],
          "name": "stdout"
        }
      ]
    },
    {
      "cell_type": "markdown",
      "metadata": {
        "id": "ipOhQBndJzNf"
      },
      "source": [
        "# Lista\n",
        "- Una lista en python es una estructura de datos formada por una secuencia ordenada de objetos"
      ]
    },
    {
      "cell_type": "code",
      "metadata": {
        "colab": {
          "base_uri": "https://localhost:8080/"
        },
        "id": "cxlMDAjiKLwN",
        "outputId": "d8bb04d8-65b8-4f80-fdc2-823427c1729a"
      },
      "source": [
        "ticket = ['papas', 'cereal' ,'huevos', 'azucar', 'pan']\n",
        "print(ticket)\n",
        "print(ticket[2])"
      ],
      "execution_count": 18,
      "outputs": [
        {
          "output_type": "stream",
          "text": [
            "['papas', 'cereal', 'huevos', 'azucar', 'pan']\n",
            "huevos\n"
          ],
          "name": "stdout"
        }
      ]
    }
  ]
}