{
  "nbformat": 4,
  "nbformat_minor": 0,
  "metadata": {
    "colab": {
      "name": "1_NOV_cyp.ipynb",
      "provenance": [],
      "authorship_tag": "ABX9TyPqF8mTPXAW3W6E2c3OjxlN",
      "include_colab_link": true
    },
    "kernelspec": {
      "name": "python3",
      "display_name": "Python 3"
    }
  },
  "cells": [
    {
      "cell_type": "markdown",
      "metadata": {
        "id": "view-in-github",
        "colab_type": "text"
      },
      "source": [
        "<a href=\"https://colab.research.google.com/github/cosio574/cyp_2021/blob/main/1_NOV_cyp.ipynb\" target=\"_parent\"><img src=\"https://colab.research.google.com/assets/colab-badge.svg\" alt=\"Open In Colab\"/></a>"
      ]
    },
    {
      "cell_type": "code",
      "metadata": {
        "colab": {
          "base_uri": "https://localhost:8080/"
        },
        "id": "zauSq7tJZy6S",
        "outputId": "3aac3ac0-81a7-40ca-c2cb-b06d50657e80"
      },
      "source": [
        "print(\"Ingrese el nombre del empleado\")\n",
        "nombre=input()\n",
        "print(\"Cuantas horas trabajo esta semana\" , nombre, \":\")\n",
        "horas=input()\n",
        "horas=int(horas)\n",
        "print(\"cuanto se paga por hora\")\n",
        "sueldo=input()\n",
        "sueldo=float(sueldo)\n",
        "\n",
        "if(horas<=40):\n",
        "  pagoFinal=horas * sueldo\n",
        "  print(\"El sueldo final de\" , nombre, \"Es $\", pagoFinal) \n",
        "\n",
        "elif (horas > 40 and horas <= 50):\n",
        "    extrasDobles=horas-40\n",
        "    print(\"Horas extras dobles\", extraDobles)\n",
        "    pago=40*suelso\n",
        "    print(\"Sueldo base:$\" , pago)\n",
        "    pagoDoble=estradobles * sueldo*2\n",
        "    print(\"pago de horasDobles: $\" , pagoDoble)\n",
        "    pagoFinal=pago +pagoDoble\n",
        "    print(\"El sueldo Final de : \" ,nombre ,\"Es $\", pagoFinal)\n",
        "\n",
        "elif (horas >50 and horas >=60):\n",
        "  eztrasTriples=horas-50\n",
        "  print(\"Horas extras dobles:10\")\n",
        "  print(\"horas extras triples:\",extrasTriples)\n",
        "  pago=40 * sueldo\n",
        "  print(\"sueldo base:$\", pago)\n",
        "  pagoDoble=10*sueldo*2\n",
        "  print(\"pago de horas extras dobles\", pagoDoble)\n",
        "  pagoTriple=extrasTriples *sueldo *3\n",
        "  print(\"pago de horas extras dobles:\" , pagoTriple)\n",
        "  pagoFinal=pago + pagoDoble+ pagoTriple\n",
        "  print(\"El sueldo Final de : \" ,nombre , \"Es $\", pagoFinal)\n",
        "\n",
        "else:\n",
        "  extrasTriples=10\n",
        "  print(\"Horas extra dobles 10\")\n",
        "  print(\"Horas extra tirples 10\")\n",
        "  pago=40*sueldo\n",
        "  print(\"Sueldo Base: $ \" ,pago)\n",
        "  pagoDoble=10*sueldo*2\n",
        "  print(\"Pago de horas extra dobles:\" ,pagoDoble)\n",
        "  pagoTriple =extrasTriples * sueldo*3\n",
        "  print(\"Pago de horas ecxtras triples:\" ,pagoTriple)\n",
        "  print(\"Incentivo por trabajar mas de 60 horas: $2000\")\n",
        "  pagoFinal = pago+pagoDoble+pagoTriple+2000\n",
        "  print(\"El sueldo final de:\" ,nombre , \"Es $\" , pagoFinal)"
      ],
      "execution_count": 20,
      "outputs": [
        {
          "output_type": "stream",
          "text": [
            "Ingrese el nombre del empleado\n",
            "Mrco\n",
            "Cuantas horas trabajo esta semana Mrco :\n",
            "55\n",
            "cuanto se paga por hora\n",
            "200\n",
            "Horas extra dobles 10\n",
            "Horas extra tirples 10\n",
            "Sueldo Base: $  8000.0\n",
            "Pago de horas extra dobles: 4000.0\n",
            "Pago de horas ecxtras triples: 6000.0\n",
            "Incentivo por trabajar mas de 60 horas: $2000\n",
            "El sueldo final de: Mrco Es $ 20000.0\n"
          ],
          "name": "stdout"
        }
      ]
    },
    {
      "cell_type": "code",
      "metadata": {
        "colab": {
          "base_uri": "https://localhost:8080/"
        },
        "id": "fde92437oCiZ",
        "outputId": "1aee63bf-3db4-4968-879c-843bee434eb1"
      },
      "source": [
        "for estaciones_año in [\"Primavera\",\"Verano\",\"Otoño\",\"Invierno\"]:\n",
        " print(estaciones_año) "
      ],
      "execution_count": 27,
      "outputs": [
        {
          "output_type": "stream",
          "text": [
            "Primavera\n",
            "Verano\n",
            "Otoño\n",
            "Invierno\n"
          ],
          "name": "stdout"
        }
      ]
    }
  ]
}