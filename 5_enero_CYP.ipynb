{
  "nbformat": 4,
  "nbformat_minor": 0,
  "metadata": {
    "colab": {
      "name": "5_enero_CYP.ipynb",
      "provenance": [],
      "authorship_tag": "ABX9TyNE3yjwRAI52lrMTN9qjlEL",
      "include_colab_link": true
    },
    "kernelspec": {
      "name": "python3",
      "display_name": "Python 3"
    }
  },
  "cells": [
    {
      "cell_type": "markdown",
      "metadata": {
        "id": "view-in-github",
        "colab_type": "text"
      },
      "source": [
        "<a href=\"https://colab.research.google.com/github/cosio574/cyp_2021/blob/main/5_enero_CYP.ipynb\" target=\"_parent\"><img src=\"https://colab.research.google.com/assets/colab-badge.svg\" alt=\"Open In Colab\"/></a>"
      ]
    },
    {
      "cell_type": "code",
      "metadata": {
        "id": "92W2l5MdmHF0"
      },
      "source": [
        ""
      ],
      "execution_count": null,
      "outputs": []
    },
    {
      "cell_type": "code",
      "metadata": {
        "colab": {
          "base_uri": "https://localhost:8080/",
          "height": 130
        },
        "id": "byO0xtugjM1W",
        "outputId": "46684531-427b-42ee-86cb-63d2fd3c91eb"
      },
      "source": [
        "sueldos = [0.0 for x in range(7)]\n",
        "print(sueldos)\n",
        "sueldos = [0] = 12.3\n",
        "sueldos = [1] = 32.3\n",
        "sueldos = [2] = 42.3 \n",
        "sueldos = [3] = 11-3\n",
        "sueldos = [4] = 77.3\n",
        "sueldos = [5] = 88.3\n",
        "sueldos = [6] = 99.3\n",
        "print(sueldos)\n",
        "\n",
        "for j in range(7):\n",
        "  sueldos[j]=float(input(\"introduce un sueldo: \"))\n",
        "  print(sueldos)"
      ],
      "execution_count": 24,
      "outputs": [
        {
          "output_type": "error",
          "ename": "SyntaxError",
          "evalue": "ignored",
          "traceback": [
            "\u001b[0;36m  File \u001b[0;32m\"<ipython-input-24-6ba9abbee239>\"\u001b[0;36m, line \u001b[0;32m3\u001b[0m\n\u001b[0;31m    sueldos = [0] = 12.3\u001b[0m\n\u001b[0m             ^\u001b[0m\n\u001b[0;31mSyntaxError\u001b[0m\u001b[0;31m:\u001b[0m can't assign to literal\n"
          ]
        }
      ]
    },
    {
      "cell_type": "code",
      "metadata": {
        "colab": {
          "base_uri": "https://localhost:8080/"
        },
        "id": "7Z9aFnoEouE2",
        "outputId": "dd2a6cc6-d2e2-4db5-b5be-b741fd3da8b0"
      },
      "source": [
        "#PROBLEMA 4.1\n",
        "MAXIMO = 7\n",
        "sueldos = [ 0.0 for x in range(MAXIMO) ]\n",
        "SUMA = 0.0\n",
        "PROM = 0.0\n",
        "\n",
        "for i in range(MAXIMO):\n",
        "  sueldos[i]=float(input(\"Dame el sueldo: \"))\n",
        "\n",
        "for i in range(MAXIMO):\n",
        "  print(f\"trabajador {i+1}, gana {sueldos[i] }\")\n",
        "\n",
        "for i in range(MAXIMO):\n",
        "  SUMA =  SUMA + sueldos[ i ]\n",
        "  PROM = SUMA / MAXIMO\n",
        "\n",
        "  print(f\"El promedio del sueldo es ${PROM}\")\n",
        "\n",
        "for i in range (MAXIMO):\n",
        "  if sueldos[i] < PROM:\n",
        "    print(f\"El tarabajador {i+1} tiene un sueldo mayor al promedio\")"
      ],
      "execution_count": 15,
      "outputs": [
        {
          "output_type": "stream",
          "text": [
            "Dame el sueldo: 4\n",
            "Dame el sueldo: 5\n",
            "Dame el sueldo: 4\n",
            "Dame el sueldo: 5\n",
            "Dame el sueldo: 4\n",
            "Dame el sueldo: 5\n",
            "Dame el sueldo: 4\n",
            "trabajador 1, gana 4.0\n",
            "trabajador 2, gana 5.0\n",
            "trabajador 3, gana 4.0\n",
            "trabajador 4, gana 5.0\n",
            "trabajador 5, gana 4.0\n",
            "trabajador 6, gana 5.0\n",
            "trabajador 7, gana 4.0\n",
            "El promedio del sueldo es $0.5714285714285714\n",
            "El promedio del sueldo es $1.2857142857142858\n",
            "El promedio del sueldo es $1.8571428571428572\n",
            "El promedio del sueldo es $2.5714285714285716\n",
            "El promedio del sueldo es $3.142857142857143\n",
            "El promedio del sueldo es $3.857142857142857\n",
            "El promedio del sueldo es $4.428571428571429\n",
            "El tarabajador 1 tiene un sueldo mayor al promedio\n",
            "El tarabajador 3 tiene un sueldo mayor al promedio\n",
            "El tarabajador 5 tiene un sueldo mayor al promedio\n",
            "El tarabajador 7 tiene un sueldo mayor al promedio\n"
          ],
          "name": "stdout"
        }
      ]
    },
    {
      "cell_type": "code",
      "metadata": {
        "colab": {
          "base_uri": "https://localhost:8080/",
          "height": 130
        },
        "id": "DGj9o05IxHtv",
        "outputId": "95a753eb-2ea9-4380-b518-169992abdc7e"
      },
      "source": [
        "#Problema 4.1\n",
        "\n",
        "VEC = []\n",
        "N = int(input(\"Ingrese el numero de elementos del arreglo:\")\n",
        "if 1 <= N and N <= 500:\n",
        "  VEC = [0 for x in range(N)]\n",
        "  print(VEC)\n",
        "      for I in range(N):\n",
        "        VEC[I]=int(input(\"Ingreseel valor: \" + str(I + 1) + \":\"))\n",
        "        print(\"Lista de numeros sin repeticiones\")\n",
        "\n",
        "        for I in range( N ):\n",
        "          print(VEC[I])\n",
        "          REPET = VEC[I]\n",
        "          while I < N and REPET == VEC[I]:\n",
        "              I = I + 1\n",
        "  else:\n",
        "    print(\"el numero de elementos delarreglo es incorrecto\")\n",
        "\n"
      ],
      "execution_count": 42,
      "outputs": [
        {
          "output_type": "error",
          "ename": "SyntaxError",
          "evalue": "ignored",
          "traceback": [
            "\u001b[0;36m  File \u001b[0;32m\"<ipython-input-42-70b3f67de7c9>\"\u001b[0;36m, line \u001b[0;32m5\u001b[0m\n\u001b[0;31m    if 1 <= N and N <= 500:\u001b[0m\n\u001b[0m                          ^\u001b[0m\n\u001b[0;31mSyntaxError\u001b[0m\u001b[0;31m:\u001b[0m invalid syntax\n"
          ]
        }
      ]
    }
  ]
}