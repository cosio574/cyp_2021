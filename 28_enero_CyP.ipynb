{
  "nbformat": 4,
  "nbformat_minor": 0,
  "metadata": {
    "colab": {
      "name": "28_enero_CyP.ipynb",
      "provenance": [],
      "authorship_tag": "ABX9TyOMSfXN+3wH33HPH74BvbtH",
      "include_colab_link": true
    },
    "kernelspec": {
      "name": "python3",
      "display_name": "Python 3"
    }
  },
  "cells": [
    {
      "cell_type": "markdown",
      "metadata": {
        "id": "view-in-github",
        "colab_type": "text"
      },
      "source": [
        "<a href=\"https://colab.research.google.com/github/cosio574/cyp_2021/blob/main/28_enero_CyP.ipynb\" target=\"_parent\"><img src=\"https://colab.research.google.com/assets/colab-badge.svg\" alt=\"Open In Colab\"/></a>"
      ]
    },
    {
      "cell_type": "markdown",
      "metadata": {
        "id": "m0BE6P9LB6ZG"
      },
      "source": [
        "# Tuplas\n",
        "\n",
        "- Tipo de dato lineal, estructura de datos.\n",
        "- No mutable\n",
        "- Puede contener de 0 a n elementos\n",
        "- Se declara con '('y')'\n",
        "- No puedes agregar ni quitar elementos\n",
        "- Pueden ser anidadas\n",
        "- Los argumentos a una funcion son envbiadas como tuplas\n"
      ]
    },
    {
      "cell_type": "code",
      "metadata": {
        "id": "K_YPgcTYDGRa"
      },
      "source": [
        "frutas = ('Sandia', 'Melón' , 'Limón' ,'Mango')\n",
        "print(frutas)\n",
        "print(frutas[1:3:1])\n",
        "print(frutas.count('Manzana'))\n",
        "\n",
        "# ¿Para que se usan?\n",
        "conexión = ('123.248.12.12' , 3306 , 'cyp_bd' , usr_test , '123dios')\n",
        "print(f\"usuarios:{ conexion[3] } y passwd:{ conexion[4] }\")"
      ],
      "execution_count": null,
      "outputs": []
    },
    {
      "cell_type": "markdown",
      "metadata": {
        "id": "S2SHNGlAGF7S"
      },
      "source": [
        "# Diccionarios\n",
        "- Estrucutura de datos semilineal\n",
        "- Fomrato por pares, llave-valor\n",
        "- Equivalentes al tipo de dato JSON, de JavaScript\n",
        "- Utiliza organización por función de disperción\n",
        "- Se declara con los elementos '{' y '}'\n",
        "- El selector usa valores de tipo string(llave)\n",
        "- No se puede sellecionar por offset[1]\n",
        "- Son mutables\n",
        "\n",
        "\n",
        "\n"
      ]
    },
    {
      "cell_type": "code",
      "metadata": {
        "colab": {
          "base_uri": "https://localhost:8080/"
        },
        "id": "6dvrnpKUHKJc",
        "outputId": "51407579-3054-4a1a-8cea-4543030711b7"
      },
      "source": [
        "alumno = { 'nombre' : 'Marco Cosio' , 'edad' : 18 }\n",
        "print(alumno)\n",
        "print( alumno['nombre'] )"
      ],
      "execution_count": 6,
      "outputs": [
        {
          "output_type": "stream",
          "text": [
            "{'nombre': 'Marco Cosio', 'edad': 18}\n",
            "Marco Cosio\n"
          ],
          "name": "stdout"
        }
      ]
    },
    {
      "cell_type": "code",
      "metadata": {
        "id": "yAGsJcaSLitq"
      },
      "source": [
        "cliente = {}\n"
      ],
      "execution_count": null,
      "outputs": []
    },
    {
      "cell_type": "code",
      "metadata": {
        "id": "IwfkxeEaVJ32"
      },
      "source": [
        "funciones = dir(dict)\n",
        " for funcion in "
      ],
      "execution_count": null,
      "outputs": []
    },
    {
      "cell_type": "markdown",
      "metadata": {
        "id": "COGBQumxVru9"
      },
      "source": [
        "# Manipulación de los pares llave valor.\n",
        "para ello se emplean los metodos:\n",
        "- keys() te regresa una tupla con strings llave del diccionario\n",
        "- values() te regresa solo los valores\n",
        "- items() te regresa los pares"
      ]
    },
    {
      "cell_type": "code",
      "metadata": {
        "colab": {
          "base_uri": "https://localhost:8080/",
          "height": 1000
        },
        "id": "o_zwWNiBWN8X",
        "outputId": "23182630-077d-49ca-eb73-6ab3997c9ea1"
      },
      "source": [
        "print(alumno)\n",
        "llaves = alumno.keys()\n",
        "print( llaves )\n",
        "for elem in llaves:\n",
        "  print( elem )\n",
        "  print( help(llaves))\n",
        "\n",
        "\n",
        "  valores = alumno.values()\n",
        "  print(valores)\n",
        "  print(\".-.-.-.-.-.-.-.-.\")\n",
        "  for val in valores:\n",
        "    print(val)\n",
        "\n",
        "\n",
        "  pares = alumno.items\n",
        "  print(pares)\n",
        "  print(\".-.-.-.-.-.-.-.-.\")\n",
        "  for par in pares:\n",
        "    print(par)"
      ],
      "execution_count": 17,
      "outputs": [
        {
          "output_type": "stream",
          "text": [
            "{'nombre': 'Marco Cosio', 'edad': 18}\n",
            "dict_keys(['nombre', 'edad'])\n",
            "nombre\n",
            "Help on dict_keys object:\n",
            "\n",
            "class dict_keys(object)\n",
            " |  Methods defined here:\n",
            " |  \n",
            " |  __and__(self, value, /)\n",
            " |      Return self&value.\n",
            " |  \n",
            " |  __contains__(self, key, /)\n",
            " |      Return key in self.\n",
            " |  \n",
            " |  __eq__(self, value, /)\n",
            " |      Return self==value.\n",
            " |  \n",
            " |  __ge__(self, value, /)\n",
            " |      Return self>=value.\n",
            " |  \n",
            " |  __getattribute__(self, name, /)\n",
            " |      Return getattr(self, name).\n",
            " |  \n",
            " |  __gt__(self, value, /)\n",
            " |      Return self>value.\n",
            " |  \n",
            " |  __iter__(self, /)\n",
            " |      Implement iter(self).\n",
            " |  \n",
            " |  __le__(self, value, /)\n",
            " |      Return self<=value.\n",
            " |  \n",
            " |  __len__(self, /)\n",
            " |      Return len(self).\n",
            " |  \n",
            " |  __lt__(self, value, /)\n",
            " |      Return self<value.\n",
            " |  \n",
            " |  __ne__(self, value, /)\n",
            " |      Return self!=value.\n",
            " |  \n",
            " |  __or__(self, value, /)\n",
            " |      Return self|value.\n",
            " |  \n",
            " |  __rand__(self, value, /)\n",
            " |      Return value&self.\n",
            " |  \n",
            " |  __repr__(self, /)\n",
            " |      Return repr(self).\n",
            " |  \n",
            " |  __ror__(self, value, /)\n",
            " |      Return value|self.\n",
            " |  \n",
            " |  __rsub__(self, value, /)\n",
            " |      Return value-self.\n",
            " |  \n",
            " |  __rxor__(self, value, /)\n",
            " |      Return value^self.\n",
            " |  \n",
            " |  __sub__(self, value, /)\n",
            " |      Return self-value.\n",
            " |  \n",
            " |  __xor__(self, value, /)\n",
            " |      Return self^value.\n",
            " |  \n",
            " |  isdisjoint(...)\n",
            " |      Return True if the view and the given iterable have a null intersection.\n",
            " |  \n",
            " |  ----------------------------------------------------------------------\n",
            " |  Data and other attributes defined here:\n",
            " |  \n",
            " |  __hash__ = None\n",
            "\n",
            "None\n",
            "dict_values(['Marco Cosio', 18])\n",
            ".-.-.-.-.-.-.-.-.\n",
            "Marco Cosio\n",
            "18\n",
            "<built-in method items of dict object at 0x7fd0ba949828>\n",
            ".-.-.-.-.-.-.-.-.\n"
          ],
          "name": "stdout"
        },
        {
          "output_type": "error",
          "ename": "TypeError",
          "evalue": "ignored",
          "traceback": [
            "\u001b[0;31m---------------------------------------------------------------------------\u001b[0m",
            "\u001b[0;31mTypeError\u001b[0m                                 Traceback (most recent call last)",
            "\u001b[0;32m<ipython-input-17-63c758a55deb>\u001b[0m in \u001b[0;36m<module>\u001b[0;34m()\u001b[0m\n\u001b[1;32m     17\u001b[0m   \u001b[0mprint\u001b[0m\u001b[0;34m(\u001b[0m\u001b[0mpares\u001b[0m\u001b[0;34m)\u001b[0m\u001b[0;34m\u001b[0m\u001b[0;34m\u001b[0m\u001b[0m\n\u001b[1;32m     18\u001b[0m   \u001b[0mprint\u001b[0m\u001b[0;34m(\u001b[0m\u001b[0;34m\".-.-.-.-.-.-.-.-.\"\u001b[0m\u001b[0;34m)\u001b[0m\u001b[0;34m\u001b[0m\u001b[0;34m\u001b[0m\u001b[0m\n\u001b[0;32m---> 19\u001b[0;31m   \u001b[0;32mfor\u001b[0m \u001b[0mpar\u001b[0m \u001b[0;32min\u001b[0m \u001b[0mpares\u001b[0m\u001b[0;34m:\u001b[0m\u001b[0;34m\u001b[0m\u001b[0;34m\u001b[0m\u001b[0m\n\u001b[0m\u001b[1;32m     20\u001b[0m     \u001b[0mprint\u001b[0m\u001b[0;34m(\u001b[0m\u001b[0mpar\u001b[0m\u001b[0;34m)\u001b[0m\u001b[0;34m\u001b[0m\u001b[0;34m\u001b[0m\u001b[0m\n",
            "\u001b[0;31mTypeError\u001b[0m: 'builtin_function_or_method' object is not iterable"
          ]
        }
      ]
    }
  ]
}