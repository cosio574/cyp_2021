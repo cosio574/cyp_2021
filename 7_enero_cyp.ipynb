{
  "nbformat": 4,
  "nbformat_minor": 0,
  "metadata": {
    "colab": {
      "name": "7_enero_cyp.ipynb",
      "provenance": [],
      "authorship_tag": "ABX9TyMMrI2W8x9RViNJYTtRQ5mD",
      "include_colab_link": true
    },
    "kernelspec": {
      "name": "python3",
      "display_name": "Python 3"
    }
  },
  "cells": [
    {
      "cell_type": "markdown",
      "metadata": {
        "id": "view-in-github",
        "colab_type": "text"
      },
      "source": [
        "<a href=\"https://colab.research.google.com/github/cosio574/cyp_2021/blob/main/7_enero_cyp.ipynb\" target=\"_parent\"><img src=\"https://colab.research.google.com/assets/colab-badge.svg\" alt=\"Open In Colab\"/></a>"
      ]
    },
    {
      "cell_type": "code",
      "metadata": {
        "id": "8RVO-bpv4SJ2"
      },
      "source": [
        "REN = 3\n",
        "COL = 5\n",
        "VEC =  [[0 for x in range(COL)] for x in range(REN)]\n",
        "print(VEC)\n",
        "VEC[1][2]=15\n",
        "print(VEC)\n",
        "\n",
        "PRINT(\"Automatizar el recorrido del arreglo\")\n",
        "for i in range(REN):\n",
        "  for j in range(COL):\n",
        "    print(f\"{i},{j}) = {VEC [i][j]\")"
      ],
      "execution_count": null,
      "outputs": []
    },
    {
      "cell_type": "code",
      "metadata": {
        "colab": {
          "base_uri": "https://localhost:8080/"
        },
        "id": "Jlr0ndglF0RD",
        "outputId": "8a4a6714-b6a4-43b9-a6f0-336aa78acb3c"
      },
      "source": [
        "estados = int (input(\"¿Cuantos estados son: ?\"))\n",
        "lluvias_men_est = [ [0 for x in range(12)]for x in range(estados)]\n",
        "print(lluvias_men_est)\n",
        "for i in range(estados):\n",
        "  for j in range(12):\n",
        "    mensaje=\"Dame el valor del estado\", str(i +1), \"del mes\", str(j+1)\n",
        "    aux=int(input(mensaje))\n",
        "    lluvias_men_est[i][j]=aux\n",
        "    print(lluvias_men_est)\n",
        "\n",
        "    print(\"Promedio de lluvias en lo9s estados\")\n",
        "    suma = 0\n",
        "    for i in range(estados):\n",
        "      suma = 0\n",
        "    for j in range(12):\n",
        "      suma = suma + lluvias_men_est[i][j]\n",
        "    print(f\"El rpomedio de lluvias en el estado {i+1} es {suma / 12}\")"
      ],
      "execution_count": null,
      "outputs": [
        {
          "output_type": "stream",
          "text": [
            "¿Cuantos estados son: ?2\n",
            "[[0, 0, 0, 0, 0, 0, 0, 0, 0, 0, 0, 0], [0, 0, 0, 0, 0, 0, 0, 0, 0, 0, 0, 0]]\n"
          ],
          "name": "stdout"
        }
      ]
    }
  ]
}