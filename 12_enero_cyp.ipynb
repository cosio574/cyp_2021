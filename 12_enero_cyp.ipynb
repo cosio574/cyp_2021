{
  "nbformat": 4,
  "nbformat_minor": 0,
  "metadata": {
    "colab": {
      "name": "12_enero_cyp.ipynb",
      "provenance": [],
      "authorship_tag": "ABX9TyOHR0+JsYQhXcyaYZ4bFdb5",
      "include_colab_link": true
    },
    "kernelspec": {
      "name": "python3",
      "display_name": "Python 3"
    }
  },
  "cells": [
    {
      "cell_type": "markdown",
      "metadata": {
        "id": "view-in-github",
        "colab_type": "text"
      },
      "source": [
        "<a href=\"https://colab.research.google.com/github/cosio574/cyp_2021/blob/main/12_enero_cyp.ipynb\" target=\"_parent\"><img src=\"https://colab.research.google.com/assets/colab-badge.svg\" alt=\"Open In Colab\"/></a>"
      ]
    },
    {
      "cell_type": "code",
      "metadata": {
        "id": "_sYP6jZql3FK"
      },
      "source": [
        "# Introduccion a Python\n",
        "\n",
        "-Creado en los 90´s por Guido Van R.\n",
        "-En el 2000 pyton mejora y tiene nuevas caracteristicas \n",
        "-Eb el 2020 deja de ser la version oficial python 2.7  y slo se le dara soporte a python 3 en adelante\n",
        "\n",
        "\n",
        "#Caracteristicas de Python\n",
        "\n",
        "-lenguaje de proposito general.\n",
        "-Interpretado y no-compilado.\n",
        "-Tipos de datos dinámicos. (numericos, cadena, bool, entre otros)\n",
        "-Multiplataforma\n",
        "-Lenguaje-Paradigma (imperativa, POO y funcional.)\n",
        "-Codigó es estructurado por indentación.\n",
        "\n",
        "\n",
        "##Principios Zen de python\n",
        "\n",
        "Son las caracterisiticas que guian el diseño de lenguajes de proramacion Python"
      ],
      "execution_count": null,
      "outputs": []
    },
    {
      "cell_type": "code",
      "metadata": {
        "colab": {
          "base_uri": "https://localhost:8080/"
        },
        "id": "WRZXFusIu2ty",
        "outputId": "97d1b569-9400-46ea-e52a-51f95084a5c4"
      },
      "source": [
        "# Primer programa en Python 3\n",
        "\n",
        "\n",
        "nombre = \"Marco\"\n",
        "edad = 19\n",
        "print(\"Hola\", nombre, edad)"
      ],
      "execution_count": 3,
      "outputs": [
        {
          "output_type": "stream",
          "text": [
            "Hola Marco 19\n"
          ],
          "name": "stdout"
        }
      ]
    },
    {
      "cell_type": "markdown",
      "metadata": {
        "id": "AaN9BquBvvRH"
      },
      "source": [
        "# La Función print()\n",
        "Es una de las funciones mas empleadas en programacion y busca enviar datos a la salida standar (monitor)\n",
        "\n",
        "### Formas de uso\n",
        "1.\n",
        "1.\n",
        "1.\n",
        "1."
      ]
    },
    {
      "cell_type": "markdown",
      "metadata": {
        "id": "N4E3edKF2N3L"
      },
      "source": [
        "#Funcion print() y los carecteres de escape\n",
        "\n",
        "92"
      ]
    },
    {
      "cell_type": "markdown",
      "metadata": {
        "id": "ETAPHeWS2OXg"
      },
      "source": [
        ""
      ]
    }
  ]
}