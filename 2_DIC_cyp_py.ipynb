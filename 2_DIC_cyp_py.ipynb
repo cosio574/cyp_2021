{
  "nbformat": 4,
  "nbformat_minor": 0,
  "metadata": {
    "colab": {
      "name": "2_DIC_cyp.py",
      "provenance": [],
      "authorship_tag": "ABX9TyNc1CP/q/fnkDOd2Vhzu4h9",
      "include_colab_link": true
    },
    "kernelspec": {
      "name": "python3",
      "display_name": "Python 3"
    }
  },
  "cells": [
    {
      "cell_type": "markdown",
      "metadata": {
        "id": "view-in-github",
        "colab_type": "text"
      },
      "source": [
        "<a href=\"https://colab.research.google.com/github/cosio574/cyp_2021/blob/main/2_DIC_cyp_py.ipynb\" target=\"_parent\"><img src=\"https://colab.research.google.com/assets/colab-badge.svg\" alt=\"Open In Colab\"/></a>"
      ]
    },
    {
      "cell_type": "code",
      "metadata": {
        "colab": {
          "base_uri": "https://localhost:8080/"
        },
        "id": "_1xM-zi_XuFS",
        "outputId": "c1073854-a3ff-4e42-f8fa-3e841d708c6c"
      },
      "source": [
        "print(\"Ingresa el Nombre del empleado\")\n",
        "nombre=input()\n",
        "print(\"¿Cual es el sueldo del empleado?\")\n",
        "sueldo=input()\n",
        "sueldo=int(sueldo)\n",
        "sueldo=float(sueldo)\n",
        "\n",
        "if (sueldo>=1000):\n",
        "  sueldoF= sueldo * 0.15 \n",
        "  sueldoFinal= sueldo + sueldoF\n",
        "  print(\"Este es tu sueldo Final\" ,sueldoFinal)\n",
        "\n",
        "\n",
        "elif (sueldo<1000):\n",
        "  sueldoF= sueldo * 0.12\n",
        "  sueldoFinal= sueldo + sueldoF\n",
        "  print(\"Este es tu sueldo Final\" ,sueldoFinal)\n",
        "\n"
      ],
      "execution_count": 35,
      "outputs": [
        {
          "output_type": "stream",
          "text": [
            "Ingresa el Nombre del empleado\n",
            "marco\n",
            "¿Cual es el sueldo del empleado?\n",
            "550\n",
            "Este es tu sueldo 616.0\n"
          ],
          "name": "stdout"
        }
      ]
    },
    {
      "cell_type": "code",
      "metadata": {
        "colab": {
          "base_uri": "https://localhost:8080/"
        },
        "id": "a-pVNrUckUfb",
        "outputId": "ad0692db-6a33-4266-e424-af836f09b285"
      },
      "source": [
        "print(\"Ingresa tu nombre\")\n",
        "nombre=input()\n",
        "cat= int(input(\"Como ya sabes existen 4 categorias ¿A cual perteneces tu?  \"))\n",
        "sue= float(input(\"Ingrese su sueldo  \"))\n",
        "\n",
        "if (cat == 1):\n",
        "  sue1= ((sue / 100) * 15) + sue\n",
        "  print(f\"el sueldo corresponidente a su categoria {cat} con el aumento es: ${sue1:.2f}\")\n",
        "elif (cat == 2):\n",
        "  sue1= ((sue / 100) * 10) + sue\n",
        "  print(f\"el sueldo correspondiente a su categoria {cat} con el aumento es: ${sue1:.2f}\")\n",
        "elif (cat == 3):\n",
        "  sue1= ((sue / 100) * 8) + sue\n",
        "  print(f\"el sueldo correspondiente a su categoria {cat} con el aumento es: ${sue1:.2f}\")\n",
        "elif (cat == 4):\n",
        "  sue1= ((sue / 100) * 7) + sue\n",
        "  print(f\"el sueldo correspondiente a su categoria {cat} con el aumento es: ${sue1:.2f}\")\n",
        "\n",
        "\n",
        "\n",
        "\n",
        "\n",
        "\n",
        "\n",
        "\n",
        "\n",
        "\n",
        "\n",
        "\n"
      ],
      "execution_count": 93,
      "outputs": [
        {
          "output_type": "stream",
          "text": [
            "Ingresa tu nombre\n",
            "Marco Cosio\n",
            "Como ya sabes existen 4 categorias ¿A cual perteneces tu?  3\n",
            "Ingrese su sueldo  5406\n",
            "el sueldo correspondiente a su categoria 3 con el aumento es: $5838.48\n"
          ],
          "name": "stdout"
        }
      ]
    }
  ]
}