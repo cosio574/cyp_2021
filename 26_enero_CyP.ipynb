{
  "nbformat": 4,
  "nbformat_minor": 0,
  "metadata": {
    "colab": {
      "name": "26_enero_CyP.ipynb",
      "provenance": [],
      "authorship_tag": "ABX9TyMOWLVrLMP8qwbSI1Z7KK+3",
      "include_colab_link": true
    },
    "kernelspec": {
      "name": "python3",
      "display_name": "Python 3"
    }
  },
  "cells": [
    {
      "cell_type": "markdown",
      "metadata": {
        "id": "view-in-github",
        "colab_type": "text"
      },
      "source": [
        "<a href=\"https://colab.research.google.com/github/cosio574/cyp_2021/blob/main/26_enero_CyP.ipynb\" target=\"_parent\"><img src=\"https://colab.research.google.com/assets/colab-badge.svg\" alt=\"Open In Colab\"/></a>"
      ]
    },
    {
      "cell_type": "code",
      "metadata": {
        "id": "Hlgcm58cssou"
      },
      "source": [
        ""
      ],
      "execution_count": null,
      "outputs": []
    },
    {
      "cell_type": "markdown",
      "metadata": {
        "id": "-bRUYlnms2B4"
      },
      "source": [
        "# Lista de Phyton 3\n",
        "1. Es una estructura de datos lineal de 0 o n elementos.\n",
        "1. \"Equivalente\" a los arreglos\n",
        "1. Pueden ser de diferente tipo de dato [1, 2, 32, 12]\n",
        "1. Pueden ser anidados, es decir, listas de listas [\"melón\", \"manzana roja\", \"manzana amarilla\"]\n",
        "1. Su selector es de la forma: [ int ]\n",
        "1. Son mutables, es decir, que se pueden modificar\n"
      ]
    },
    {
      "cell_type": "code",
      "metadata": {
        "id": "-XGLhd07vIpX"
      },
      "source": [
        "# ejemplos\n",
        "numeros = [4, 2, 45, 7, 83, 3]\n",
        "print(numeros)\n",
        "print(numeros[2])\n",
        "\n",
        "# una lista de elementos\n",
        "colores=[] #list()\n",
        "type(colores) #averiguar de que tipo de dato es una variable con la función \n",
        "dias = list()\n",
        "print(colores)\n",
        "print(dias)\n",
        "\n"
      ],
      "execution_count": null,
      "outputs": []
    },
    {
      "cell_type": "code",
      "metadata": {
        "colab": {
          "base_uri": "https://localhost:8080/"
        },
        "id": "YlAOQiLbwH3C",
        "outputId": "4281886a-7ca2-45e2-9703-a1352797d54e"
      },
      "source": [
        "# Pueden ser de diferente tipo de datos\n",
        "\n",
        "mi_lista = [1, 2, 3, \"Marco\", False, 1.75, [5539518249, 445520143564, 70411354] ]\n",
        "print(mi_lista)\n",
        "print(mi_lista[5])\n",
        "print(mi_lista[6][1])\n",
        "print(mi_lista[3][4])\n",
        "print(str(mi_lista[6][1])[2])"
      ],
      "execution_count": null,
      "outputs": [
        {
          "output_type": "stream",
          "text": [
            "[1, 2, 3, 'Marco', False, 1.75, [5539518249, 445520143564, 70411354]]\n",
            "1.75\n",
            "445520143564\n",
            "o\n",
            "5\n"
          ],
          "name": "stdout"
        }
      ]
    },
    {
      "cell_type": "code",
      "metadata": {
        "colab": {
          "base_uri": "https://localhost:8080/",
          "height": 232
        },
        "id": "vWkQYuuD0UqJ",
        "outputId": "12bcf790-9dd0-45f3-9b0d-8634a623f9bb"
      },
      "source": [
        "frutas = [\"melón, sandia, kiwi, aguacate, mango, platano\"]\n",
        "print(frutas)\n",
        "frutas[0] = \"Melón\"\n",
        "#frutas[1] = \"S\"\n",
        "#print(frutas)\n",
        "#frutaa[1][0] = \"S\"\n",
        "frutas[1] = frutas[1].capitalize()\n",
        "print(frutas)"
      ],
      "execution_count": null,
      "outputs": [
        {
          "output_type": "stream",
          "text": [
            "['melón, sandia, kiwi, aguacate, mango, platano']\n"
          ],
          "name": "stdout"
        },
        {
          "output_type": "error",
          "ename": "IndexError",
          "evalue": "ignored",
          "traceback": [
            "\u001b[0;31m---------------------------------------------------------------------------\u001b[0m",
            "\u001b[0;31mIndexError\u001b[0m                                Traceback (most recent call last)",
            "\u001b[0;32m<ipython-input-12-4de2fbdeec82>\u001b[0m in \u001b[0;36m<module>\u001b[0;34m()\u001b[0m\n\u001b[1;32m      5\u001b[0m \u001b[0;31m#print(frutas)\u001b[0m\u001b[0;34m\u001b[0m\u001b[0;34m\u001b[0m\u001b[0;34m\u001b[0m\u001b[0m\n\u001b[1;32m      6\u001b[0m \u001b[0;31m#frutaa[1][0] = \"S\"\u001b[0m\u001b[0;34m\u001b[0m\u001b[0;34m\u001b[0m\u001b[0;34m\u001b[0m\u001b[0m\n\u001b[0;32m----> 7\u001b[0;31m \u001b[0mfrutas\u001b[0m\u001b[0;34m[\u001b[0m\u001b[0;36m1\u001b[0m\u001b[0;34m]\u001b[0m \u001b[0;34m=\u001b[0m \u001b[0mfrutas\u001b[0m\u001b[0;34m[\u001b[0m\u001b[0;36m1\u001b[0m\u001b[0;34m]\u001b[0m\u001b[0;34m.\u001b[0m\u001b[0mcapitalize\u001b[0m\u001b[0;34m(\u001b[0m\u001b[0;34m)\u001b[0m\u001b[0;34m\u001b[0m\u001b[0;34m\u001b[0m\u001b[0m\n\u001b[0m\u001b[1;32m      8\u001b[0m \u001b[0mprint\u001b[0m\u001b[0;34m(\u001b[0m\u001b[0mfrutas\u001b[0m\u001b[0;34m)\u001b[0m\u001b[0;34m\u001b[0m\u001b[0;34m\u001b[0m\u001b[0m\n",
            "\u001b[0;31mIndexError\u001b[0m: list index out of range"
          ]
        }
      ]
    },
    {
      "cell_type": "code",
      "metadata": {
        "colab": {
          "base_uri": "https://localhost:8080/"
        },
        "id": "aalYmn6p2LPs",
        "outputId": "42fe8673-fccb-4224-a6a2-0138fd1db800"
      },
      "source": [
        "# Las listas son clases, por lo tanto tienen metodos\n",
        "# Ejemplo: Append, agrega un elemento al final\n",
        "frutas = [\"melón, sandia, kiwi, aguacate, mango, platano\"]\n",
        "frutas.append(\"Fresa\")\n",
        "print(frutas)\n",
        "\n",
        "print(\"Ejemplo de copias\")\n",
        "otras_frutas = frutas\n",
        "print(frutas)\n",
        "print(otras_frutas)\n",
        "otras_frutas[0] = \"Chico Zapote\"\n",
        "print(otras_frutas)\n",
        "print(frutas)\n",
        "print(\"-------------------------\")\n",
        "\n",
        "\n",
        "print(\"Ejemplo insert\")\n",
        "print(f\"tamaño de la lista= { len(frutas) }\")\n",
        "frutas.insert(3, \"Limón\")\n",
        "print(frutas)\n",
        "\n",
        "print(\"ejemplo remove\")\n",
        "frutas.remove(\"Fresa\")\n",
        "print(frutas)\n",
        "\n",
        "\n",
        "frutas.clear()\n",
        "print(frutas)"
      ],
      "execution_count": null,
      "outputs": [
        {
          "output_type": "stream",
          "text": [
            "['melón, sandia, kiwi, aguacate, mango, platano', 'Fresa']\n",
            "Ejemplo de copias\n",
            "['melón, sandia, kiwi, aguacate, mango, platano', 'Fresa']\n",
            "['melón, sandia, kiwi, aguacate, mango, platano', 'Fresa']\n",
            "['Chico Zapote', 'Fresa']\n",
            "['Chico Zapote', 'Fresa']\n",
            "-------------------------\n",
            "Ejemplo insert\n",
            "tamaño de la lista= 2\n",
            "['Chico Zapote', 'Fresa', 'Limón']\n",
            "ejemplo remove\n",
            "['Chico Zapote', 'Limón']\n",
            "[]\n"
          ],
          "name": "stdout"
        }
      ]
    }
  ]
}